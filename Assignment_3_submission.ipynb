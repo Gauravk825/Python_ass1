{
 "cells": [
  {
   "cell_type": "markdown",
   "id": "5c226dee-a390-46e8-95f8-4d8ecf03a957",
   "metadata": {},
   "source": [
    "1. Why are functions advantageous to have in your programs?\n",
    "\n",
    "Ans. When we need to code, employing functions is crucial since it allows us to make our code reusable and reduce the number of times we need to produce the same thing. As a result, we can only create one and then use it as needed. Based on coding and math, the function is simple to read and comprehend and is straightforward to test.\n",
    "\n",
    "Any code can use functions, and they can be applied to the same code. Some computer languages allow the usage of with function.\n",
    "\n",
    "Parameters and return values can both be used in functions. The outcome of the function's execution is a return value. A function needs input in the form of parameters in order to run and provide a result."
   ]
  },
  {
   "cell_type": "code",
   "execution_count": null,
   "id": "35c5b8d0-6de2-4a0c-a149-3ecf2f31a1c4",
   "metadata": {},
   "outputs": [],
   "source": []
  },
  {
   "cell_type": "markdown",
   "id": "dc4d9c5b-8859-4835-bad0-2e3bcd4bd8e1",
   "metadata": {},
   "source": [
    "2. When does the code in a function run: when it's specified or when it's called?\n",
    "\n",
    "Ans. when we specified the function the code in the function is excute. But the code inside a function is run when the function is invoked."
   ]
  },
  {
   "cell_type": "markdown",
   "id": "d8c6c8a4-8b11-474b-beb6-7eeaa282663c",
   "metadata": {},
   "source": [
    "3. What statement creates a function?\n",
    "\n",
    "Ans. In python for definig the function wwe use 'def' keyword followed by the name of function, followed by the set of paranthesis in which we can hold any parameter or it can be empty ended with colon.\n",
    "Example: def func():"
   ]
  },
  {
   "cell_type": "code",
   "execution_count": 4,
   "id": "767c85df-9f8c-4a42-bc4d-c0fdc98716c1",
   "metadata": {},
   "outputs": [],
   "source": [
    "def func():\n",
    "    print(\"Hello\")"
   ]
  },
  {
   "cell_type": "code",
   "execution_count": 5,
   "id": "57096c24-18d6-4639-b99e-ea3a5f46c1ac",
   "metadata": {},
   "outputs": [
    {
     "name": "stdout",
     "output_type": "stream",
     "text": [
      "Hello\n"
     ]
    }
   ],
   "source": [
    "func()"
   ]
  },
  {
   "cell_type": "markdown",
   "id": "087dee73-4417-491f-b726-d11cce3a10da",
   "metadata": {},
   "source": [
    "4. What is the difference between a function and a function call?\n",
    "\n",
    "Ans. A function is a block of code that does a particular operation and returns a resuly. It usually accepts inputs as parameter and return a resulkt. the parameters are not mandatory."
   ]
  },
  {
   "cell_type": "code",
   "execution_count": 7,
   "id": "b8245575-4f26-4a81-b889-2a5492d935cc",
   "metadata": {},
   "outputs": [],
   "source": [
    "# For exanmple\n",
    "def fun(a,b):\n",
    "    return a+b"
   ]
  },
  {
   "cell_type": "markdown",
   "id": "0c93f45e-bc0b-49f9-922a-8c927f98e8cb",
   "metadata": {},
   "source": [
    "A function call is the code used to pass control to function.\n",
    "\n",
    "Example : fun(3,4)"
   ]
  },
  {
   "cell_type": "markdown",
   "id": "23c0316f-4b53-4976-a170-0240c1ce4b6c",
   "metadata": {},
   "source": [
    "5. How many global scopes are there in a Python program? How many local scopes?\n",
    "Ans.\n",
    "Global Scope :  A global variable in Python is often declared as the top of the program. In other words, variables that are declared outside of a function are known as global variables.\n",
    "\n",
    "You can access global variables in Python both inside and outside the function.\n",
    "So can say that there twi scopes for global scope.\n",
    "\n",
    "\n",
    "local Scope :A local variable's scope is a function in which you declared it. To access the variable, you have to call the corresponding function. \n",
    "So we can say that there singl scope of local scope.\n",
    " \n"
   ]
  },
  {
   "cell_type": "markdown",
   "id": "065e290c-8e2a-40b2-8c3a-f71935653519",
   "metadata": {},
   "source": [
    "6. What happens to variables in a local scope when the function call returns?\n",
    "\n",
    "Ans. If define a local scope inside a function then we can access the that local iside the function. We can't accesss the local scope outside the function. But if call the fumction then tha value of that local can return.\n",
    "with the return we can get value of local value."
   ]
  },
  {
   "cell_type": "markdown",
   "id": "dfb361bf-e53f-4af0-95e5-dc9133364a92",
   "metadata": {},
   "source": [
    "7. What is the concept of a return value? Is it possible to have a return value in an expression?\n",
    "\n",
    "Ans. A return is a value that a function returns to the calling script or function when it completes its task. A return value can be any one of the four variable types: handle, integer, object, or string. The type of value your function returns depends largely on the task it performs.\n",
    "\n",
    "yes, it possible that return value can be an expression.\n"
   ]
  },
  {
   "cell_type": "code",
   "execution_count": 1,
   "id": "4409ec52-2d3c-40c5-b3b5-316706157ecf",
   "metadata": {},
   "outputs": [
    {
     "data": {
      "text/plain": [
       "2.5"
      ]
     },
     "execution_count": 1,
     "metadata": {},
     "output_type": "execute_result"
    }
   ],
   "source": [
    "# Example \n",
    "\n",
    "def mean(sample):\n",
    "    return sum(sample) / len(sample)\n",
    "\n",
    "mean([1, 2, 3, 4])\n"
   ]
  },
  {
   "cell_type": "markdown",
   "id": "2eae5358-83b5-438c-a838-2c9cd958cd4c",
   "metadata": {},
   "source": [
    "8. If a function does not have a return statement, what is the return value of a call to that function?\n",
    "\n",
    "Ans. if we don't explicitly use a return value in a return statement, or if you totally omit the return statement, then Python will implicitly return a default value for you. That default return value will always be None .\n",
    "\n",
    "A return is a value that a function returns to the calling script or function when it completes its task. A return value can be any one of the four variable types: handle, integer, object, or string. The type of value your function returns depends largely on the task it performs.\n"
   ]
  },
  {
   "cell_type": "markdown",
   "id": "6121da6b-e913-4456-b292-c7bd0a5a763f",
   "metadata": {},
   "source": [
    "9. How do you make a function variable refer to the global variable?\n",
    "\n",
    "Ans. Normally, when you create a variable inside a function, that variable is local, and can only be used inside that function.\n",
    "\n",
    "To create a global variable inside a function, you can use the global keyword.\n"
   ]
  },
  {
   "cell_type": "code",
   "execution_count": 3,
   "id": "ad8dc314-c7bd-43e4-812c-ae5a86e5b3ac",
   "metadata": {},
   "outputs": [
    {
     "name": "stdout",
     "output_type": "stream",
     "text": [
      "Python is fantastic\n"
     ]
    }
   ],
   "source": [
    "# EX of 9 no. questioon\n",
    "\n",
    "def myfunc():\n",
    "  global x\n",
    "  x = \"fantastic\"\n",
    "\n",
    "myfunc()\n",
    "\n",
    "print(\"Python is \" + x)"
   ]
  },
  {
   "cell_type": "markdown",
   "id": "9bf81a76-cb3a-4dac-a5ef-7016e4a1b4c8",
   "metadata": {},
   "source": [
    "10. What is the data type of None?\n",
    "\n",
    "Ans. The None keyword is used to define a null value, or no value at all.\n",
    "\n",
    "None is not the same as 0, False, or an empty string. None is a data type of its own (NoneType) and only None can be None.\n",
    "\n"
   ]
  },
  {
   "cell_type": "code",
   "execution_count": 7,
   "id": "8abdf8b2-106b-4deb-ba23-faf9abde8feb",
   "metadata": {},
   "outputs": [
    {
     "name": "stdout",
     "output_type": "stream",
     "text": [
      "None\n"
     ]
    }
   ],
   "source": [
    "# ex of for Ans.10\n",
    "\n",
    "# Declaring a None variable\n",
    "var = None\n",
    "\n",
    "if var is None: # Checking if the variable is None\n",
    "  print(\"None\")\n",
    "else:\n",
    "  print(\"Not None\")"
   ]
  },
  {
   "cell_type": "code",
   "execution_count": 8,
   "id": "50027f2f-5ecc-435a-986e-d72eb978e6e0",
   "metadata": {},
   "outputs": [
    {
     "data": {
      "text/plain": [
       "11.0"
      ]
     },
     "execution_count": 8,
     "metadata": {},
     "output_type": "execute_result"
    }
   ],
   "source": [
    "11."
   ]
  },
  {
   "cell_type": "markdown",
   "id": "fe6423a9-32bc-4f62-9996-81eceef48f1e",
   "metadata": {},
   "source": [
    "12. If you had a bacon() feature in a spam module, what would you call it after importing spam?\n",
    "\n",
    "Ans. This function can be called with spam.bacon()."
   ]
  },
  {
   "cell_type": "markdown",
   "id": "740fb57c-66da-4bce-9d8f-dc127734cf17",
   "metadata": {},
   "source": [
    "13. What can you do to save a programme from crashing if it encounters an error?\n",
    "\n",
    "Ans. The code that could potentially cause an error goes in the try clause.\n",
    "     -The code that executes if an error happens goes in the except clause."
   ]
  },
  {
   "cell_type": "code",
   "execution_count": null,
   "id": "fe012a33-7292-4280-8342-6fc762922622",
   "metadata": {},
   "outputs": [],
   "source": []
  }
 ],
 "metadata": {
  "kernelspec": {
   "display_name": "Python 3 (ipykernel)",
   "language": "python",
   "name": "python3"
  },
  "language_info": {
   "codemirror_mode": {
    "name": "ipython",
    "version": 3
   },
   "file_extension": ".py",
   "mimetype": "text/x-python",
   "name": "python",
   "nbconvert_exporter": "python",
   "pygments_lexer": "ipython3",
   "version": "3.10.6"
  }
 },
 "nbformat": 4,
 "nbformat_minor": 5
}
