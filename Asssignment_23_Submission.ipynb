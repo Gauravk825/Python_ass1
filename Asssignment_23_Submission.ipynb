{
 "cells": [
  {
   "cell_type": "markdown",
   "id": "3808740a-729d-4f4a-b39e-d98f54c884ff",
   "metadata": {},
   "source": [
    "1. What is the result of the code, and why?\n",
    "\n",
    "def func(a, b=6, c=8):\n",
    "        print(a,b,c)\n",
    "        \n",
    "        \n",
    "Ans. The line func() takes two values, that is 1 and 2 respectively, but the func() is defined to take 3 values, as in func() we pass only two values, the third value comes from the default value, that is c = 8."
   ]
  },
  {
   "cell_type": "code",
   "execution_count": 4,
   "id": "77e70106-675f-4f01-b972-9d85cedb138e",
   "metadata": {},
   "outputs": [],
   "source": [
    "def func(a, b=6, c=8):\n",
    "    print(a,b,c)"
   ]
  },
  {
   "cell_type": "code",
   "execution_count": 7,
   "id": "747763e0-ad00-4961-8647-cbfe18fd1680",
   "metadata": {},
   "outputs": [
    {
     "name": "stdout",
     "output_type": "stream",
     "text": [
      "1 2 8\n"
     ]
    }
   ],
   "source": [
    "func(1,2)"
   ]
  },
  {
   "cell_type": "markdown",
   "id": "04990c16-d917-442e-a113-a80d7f71223b",
   "metadata": {},
   "source": [
    "2. What is the result of this code, and why?\n",
    "\n",
    "def func(a, b, c=5):\n",
    "\n",
    "        print(a, b, c)\n",
    "        \n",
    "func(1, c=3, b=2)\n",
    "\n",
    "\n",
    "Ans. The line func() takes three values, that is 1 , c= 3 snd b = 2 respectively,the func() is defined to take 3 values, as in func() we pass othree values, the default values gets overwritten, and we get the newly passed values."
   ]
  },
  {
   "cell_type": "code",
   "execution_count": 8,
   "id": "ebec5bb5-7865-4fd5-a3a7-9fcf7364a264",
   "metadata": {},
   "outputs": [
    {
     "name": "stdout",
     "output_type": "stream",
     "text": [
      "1 2 3\n"
     ]
    }
   ],
   "source": [
    "def func(a, b, c=5):\n",
    "\n",
    "        print(a, b, c)\n",
    "        \n",
    "func(1, c=3, b=2)"
   ]
  },
  {
   "cell_type": "markdown",
   "id": "b6df7218-7899-4c35-b3eb-703353d9efd3",
   "metadata": {},
   "source": [
    "3. How about this code: what is its result, and why?\n",
    "\n",
    "def func(a, *pargs):\n",
    "\n",
    "        print(a, pargs)\n",
    "(1, 2, 3)\n",
    "\n",
    "\n",
    "Ans. The special syntax pargs in function definitions in python is used to pass a variable number of arguments to a function. It is used to pass a non-key worded, variable-length argument list. The syntax is to use the symbol to take in a variable number of arguments; by convention, it is often used with the word args. \n",
    "Here *pargds is used to pass any number of value can be assign in the function secod value\n",
    "\n"
   ]
  },
  {
   "cell_type": "code",
   "execution_count": 10,
   "id": "7f9e6828-c04f-444f-a900-3be3bbab1b7c",
   "metadata": {},
   "outputs": [
    {
     "name": "stdout",
     "output_type": "stream",
     "text": [
      "1 (2, 3)\n"
     ]
    }
   ],
   "source": [
    "def func(a, *pargs):\n",
    "\n",
    "        print(a, pargs)\n",
    "func(1, 2, 3)"
   ]
  },
  {
   "cell_type": "markdown",
   "id": "404b10e9-b956-437b-a3ee-e2fab0b8cbb8",
   "metadata": {},
   "source": [
    "4. What does this code print, and why?\n",
    "\n",
    "def func(a, **kargs):\n",
    "\n",
    "        print(a, kargs)\n",
    "func(a=1, c=3, b=2)\n",
    "\n",
    "Ans. The special syntax **kargs in function definitions in python is used to pass a keyworded, variable-length argument list. We use the name kwargs with the double star. The reason is because the double star allows us to pass through keyword arguments (and any number of them).\n",
    "\n"
   ]
  },
  {
   "cell_type": "code",
   "execution_count": 11,
   "id": "929b3a90-94c9-4c14-8fed-908f8dd6f668",
   "metadata": {},
   "outputs": [
    {
     "name": "stdout",
     "output_type": "stream",
     "text": [
      "1 {'c': 3, 'b': 2}\n"
     ]
    }
   ],
   "source": [
    "def func(a, **kargs):\n",
    "    print(a, kargs)\n",
    "    \n",
    "func(a=1, c=3, b=2)"
   ]
  },
  {
   "cell_type": "markdown",
   "id": "b04a854e-68ae-47ad-8dcd-8f8427f1ef3f",
   "metadata": {},
   "source": [
    "5. What gets printed by this, and explain?\n",
    "def func(a, b, c=8, d=5):\n",
    "\n",
    "        print(a, b, c, d)\n",
    "func(1, *(5, 6))\n",
    "\n",
    "Ans. when we calling the function then uwe use *(5,6) by using this we passing two argument. It will assign a vlue to b and over write the c value."
   ]
  },
  {
   "cell_type": "code",
   "execution_count": 17,
   "id": "cb37ee49-7c51-4fa0-a6c4-685e77891142",
   "metadata": {},
   "outputs": [
    {
     "name": "stdout",
     "output_type": "stream",
     "text": [
      "1 5 6 5\n"
     ]
    }
   ],
   "source": [
    "def func(a, b,c=8, d=5):\n",
    "\n",
    "        print(a, b, c, d)\n",
    "func(1, *(5, 6))"
   ]
  },
  {
   "cell_type": "markdown",
   "id": "775f57cc-12bf-4569-808b-30cb3251a138",
   "metadata": {},
   "source": [
    "6. what is the result of this, and explain?\n",
    "def func(a, b, c): \n",
    "\n",
    "        a = 2; b[0] = 'x'; c['a'] = 'y'\n",
    "l=1; m=[1]; n={'a':0}\n",
    "func(l, m, n)\n"
   ]
  },
  {
   "cell_type": "code",
   "execution_count": 20,
   "id": "5a3b3f4d-f20e-454b-a9fd-2ba8dc6ab5fb",
   "metadata": {},
   "outputs": [],
   "source": [
    "def func(a, b, c): \n",
    "\n",
    "        a = 2; b[0] = 'x'; c['a'] = 'y'\n",
    "\n",
    "l=1; m=[1]; n={'a':0}\n",
    "\n",
    "func(l, m, n)"
   ]
  },
  {
   "cell_type": "code",
   "execution_count": 21,
   "id": "6372a7ad-62e6-44dd-9066-e1716b7ffe98",
   "metadata": {},
   "outputs": [],
   "source": [
    "l=1; m=[1]; n={'a':0}"
   ]
  },
  {
   "cell_type": "code",
   "execution_count": 22,
   "id": "9c198773-aa14-4dd9-927d-e2cb428ccbfe",
   "metadata": {},
   "outputs": [],
   "source": [
    "func(l, m, n)"
   ]
  },
  {
   "cell_type": "code",
   "execution_count": null,
   "id": "405f136c-c457-4d09-9664-fcc3010142df",
   "metadata": {},
   "outputs": [],
   "source": []
  }
 ],
 "metadata": {
  "kernelspec": {
   "display_name": "Python 3 (ipykernel)",
   "language": "python",
   "name": "python3"
  },
  "language_info": {
   "codemirror_mode": {
    "name": "ipython",
    "version": 3
   },
   "file_extension": ".py",
   "mimetype": "text/x-python",
   "name": "python",
   "nbconvert_exporter": "python",
   "pygments_lexer": "ipython3",
   "version": "3.10.6"
  }
 },
 "nbformat": 4,
 "nbformat_minor": 5
}
