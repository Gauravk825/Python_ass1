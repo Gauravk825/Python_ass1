{
 "cells": [
  {
   "cell_type": "markdown",
   "id": "d9bafdac-0500-4ace-86f4-eee372c42d13",
   "metadata": {},
   "source": [
    "1. To what does a relative path refer?\n",
    "\n",
    "Ans. Relative paths are relative to the current working directory"
   ]
  },
  {
   "cell_type": "markdown",
   "id": "39630354-0fc5-4a66-ab57-1da7b88a0ad9",
   "metadata": {},
   "source": [
    "2. What does an absolute path start with your operating system?\n",
    "\n",
    "Ans. Absolute paths start with the root folder, such as / or C:\\.\n",
    "\n"
   ]
  },
  {
   "cell_type": "markdown",
   "id": "5fe8346c-ed36-493a-a5db-4ed29d2ea1b0",
   "metadata": {},
   "source": [
    "3. What do the functions os.getcwd() and os.chdir() do?.\n",
    "\n",
    "Ans. The os.getcwd() function returns the current working directory. The os.chdir() function changes the current working directory."
   ]
  },
  {
   "cell_type": "markdown",
   "id": "65eda84a-dc36-4ced-b837-8c6f4ae798cf",
   "metadata": {},
   "source": [
    "4. What are the . and .. folders?\n",
    "\n",
    "Ans. The . folder is the current folder, and .. is the parent folder\n",
    "\n"
   ]
  },
  {
   "cell_type": "markdown",
   "id": "3acf9e7d-0d8e-4e47-a8cb-c10263f7a870",
   "metadata": {},
   "source": [
    "5. In C:\\bacon\\eggs\\spam.txt, which part is the dir name, and which part is the base name?\n",
    "\n",
    "Ans. C:\\bacon\\eggs is the dir name, while spam.txt is the base name."
   ]
  },
  {
   "cell_type": "markdown",
   "id": "08685420-00ff-4a8d-ad74-da7cca8d5959",
   "metadata": {},
   "source": [
    "6. What are the three “mode” arguments that can be passed to the open() function?\n",
    "\n",
    "Ans. The string 'r' for read mode, 'w' for write mode, and 'a' for append mode."
   ]
  },
  {
   "cell_type": "markdown",
   "id": "4960c7c6-5a12-453f-8d1b-f4a119647c6a",
   "metadata": {},
   "source": [
    "7. What happens if an existing file is opened in write mode?\n",
    "\n",
    "Ans. An existing file opened in write mode is erased and completely overwritten."
   ]
  },
  {
   "cell_type": "markdown",
   "id": "b7672c2d-de30-4e69-9b84-12e5ea31fab8",
   "metadata": {},
   "source": [
    "8. How do you tell the difference between read() and readlines()?\n",
    "\n",
    "Ans. The read() method returns the file’s entire contents as a single string value. The readlines() method returns a list of strings, where each string is a line from the file’s contents.\n",
    "\n"
   ]
  },
  {
   "cell_type": "markdown",
   "id": "556180a1-dfaf-4aaa-89c1-0713b1ba4ffd",
   "metadata": {},
   "source": [
    "9. What data structure does a shelf value resemble?\n",
    "\n",
    "Ans. A shelf value resembles a dictionary value; it has keys and values, along with keys() and values() methods that work similarly to the dictionary methods of the same names."
   ]
  },
  {
   "cell_type": "code",
   "execution_count": null,
   "id": "4bbfa868-e9f0-4c4d-a2b7-07574fd10809",
   "metadata": {},
   "outputs": [],
   "source": []
  }
 ],
 "metadata": {
  "kernelspec": {
   "display_name": "Python 3 (ipykernel)",
   "language": "python",
   "name": "python3"
  },
  "language_info": {
   "codemirror_mode": {
    "name": "ipython",
    "version": 3
   },
   "file_extension": ".py",
   "mimetype": "text/x-python",
   "name": "python",
   "nbconvert_exporter": "python",
   "pygments_lexer": "ipython3",
   "version": "3.10.6"
  }
 },
 "nbformat": 4,
 "nbformat_minor": 5
}
