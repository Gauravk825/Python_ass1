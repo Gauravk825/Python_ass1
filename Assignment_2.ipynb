{
 "cells": [
  {
   "cell_type": "raw",
   "id": "42cef507-a462-49dd-86a1-a68ff2e7bcbe",
   "metadata": {},
   "source": [
    "1.What are the two values of the Boolean data type? How do you write them?\n",
    "\n",
    "Ans. The boolean value can be of two types only i.e. either True or False.\n",
    " For example, the expression 1 <= 2 is True , while the expression 0 == 1 is False ."
   ]
  },
  {
   "cell_type": "raw",
   "id": "cb23b260-8e83-4055-ba7c-55709bc16f5a",
   "metadata": {},
   "source": [
    "2. What are the three different types of Boolean operators?\n",
    "\n",
    "Ans. Boolean data types are the words  \"AND\", \"OR\" and \"NOT\"."
   ]
  },
  {
   "cell_type": "raw",
   "id": "7b7e622f-d827-48b6-8efa-e44e2a537e5a",
   "metadata": {},
   "source": [
    "3. Make a list of each Boolean operator's truth tables (i.e. every possible combination of Boolean values for the operator and what it evaluate ).\n",
    "Ans.\n",
    "for OR Operator:\n",
    "True (1) OR True(1) -> True (1)\n",
    "True (1) OR False(0) -> True(1)\n",
    "False(0) OR False(0) -> False(0)\n",
    "Fase(0) OR True(1) -> True(1)\n",
    "\n",
    "\n",
    "For AND Operator:\n",
    "True(1) AND True(1) -> True(1)\n",
    "True(1) AND False(0) -> False(0)\n",
    "False(0) AND False(0) -> False(0)\n",
    "False(0) AND True(1) -> False(0)\n",
    "\n",
    "For NOT Operator:\n",
    "True(0) -> False\n",
    "False(0) -> True(1)\n",
    "\n",
    "\n"
   ]
  },
  {
   "cell_type": "raw",
   "id": "98e7eae2-4757-4697-a67e-31c7ff0304ed",
   "metadata": {},
   "source": [
    "4. What are the values of the following expressions?\n",
    "Ans. \n",
    "1.(5 > 4) and (3 == 5) -> Fasle(0)\n",
    "\n",
    "2. not (5 > 4) -> False(0)\n",
    "\n",
    "3. (5 > 4) or (3 == 5) -> True(1)\n",
    "\n",
    "4. not ((5 > 4) or (3 == 5)) -> False(0)\n",
    "\n",
    "5. (True and True) and (True == False) -> False(0)\n",
    "\n",
    "6. (not False) or (not True) -> True(1)\n"
   ]
  },
  {
   "cell_type": "raw",
   "id": "a5455069-3cf5-4879-8109-f4b476704536",
   "metadata": {},
   "source": [
    "5. What are the six comparison operators?\n",
    "Ans. We have six of these, including and limited to- less than(<), greater than(>), less than or equal to(<=), greater than or equal to(>=), equal to(==), and not equal to(!=). So, let's begin with the Python Comparison operators."
   ]
  },
  {
   "cell_type": "raw",
   "id": "ad0231fd-4d1d-4f65-a3a7-e53d31e76127",
   "metadata": {},
   "source": [
    "6. How do you tell the difference between the equal to and assignment operators?Describe a condition and when you would use one.\n",
    "Ans. If we compare two diffirent varaiable then we use equal to operator example : A == B.\n",
    "\n",
    "If we assign a value to a vraiable then we use assignment operator.\n",
    "Example : A = 10.\n",
    "\n",
    "For equal to operator we use '==' .\n",
    "For assignment we use \"=\"."
   ]
  },
  {
   "cell_type": "raw",
   "id": "6b3b9c17-2fac-4ef9-a428-619c599bb074",
   "metadata": {},
   "source": [
    "7. Identify the three blocks in this code:\n",
    "spam = 0\n",
    "if spam == 10:\n",
    "print('eggs')\n",
    "if spam > 5:\n",
    "print('bacon')\n",
    "else:\n",
    "print('ham')\n",
    "print('spam')\n",
    "print('spam')\n",
    "\n",
    "Ans.\n",
    "spam = 0\n",
    "if spam == 10:\n",
    "    print('eggs')\n",
    "    if spam > 5:\n",
    "        print('bacon')\n",
    "    else:\n",
    "        print('ham')\n",
    "    print('spam')\n",
    "print('spam')\n"
   ]
  },
  {
   "cell_type": "code",
   "execution_count": 4,
   "id": "8eb3fb55-ff63-4365-89c6-c1f9cf3440ce",
   "metadata": {},
   "outputs": [],
   "source": [
    "#8. Write code that prints Hello if 1 is stored in spam, prints Howdy if 2 is stored in spam, and prints Greetings! if anything else is stored in spam.\n",
    "#Ans. \n",
    "\n",
    "def spm(spam):\n",
    "    \n",
    "    if spam == 1:\n",
    "        print(\"Hello\")\n",
    "    elif spam == 2 :\n",
    "        print(\"Howdy\")\n",
    "    else:\n",
    "        print(\"Greeting!\")\n",
    "    "
   ]
  },
  {
   "cell_type": "code",
   "execution_count": 7,
   "id": "21b02f5f-3b06-4767-81be-323f84416a5c",
   "metadata": {},
   "outputs": [
    {
     "name": "stdout",
     "output_type": "stream",
     "text": [
      "Hello\n"
     ]
    }
   ],
   "source": [
    "spm(1)"
   ]
  },
  {
   "cell_type": "code",
   "execution_count": 8,
   "id": "06862a0b-e7b6-4908-b992-722ab2f7ed89",
   "metadata": {},
   "outputs": [
    {
     "name": "stdout",
     "output_type": "stream",
     "text": [
      "Howdy\n"
     ]
    }
   ],
   "source": [
    "spm(2)"
   ]
  },
  {
   "cell_type": "code",
   "execution_count": 10,
   "id": "713f0f8a-2681-490a-95e1-512304c56a8b",
   "metadata": {},
   "outputs": [
    {
     "name": "stdout",
     "output_type": "stream",
     "text": [
      "Greeting!\n"
     ]
    }
   ],
   "source": [
    "spm(3)"
   ]
  },
  {
   "cell_type": "raw",
   "id": "61163fcb-60e2-4714-981f-e1f08cece386",
   "metadata": {},
   "source": [
    "9.If your programme is stuck in an endless loop, what keys you’ll press?\n",
    "\n",
    "Ans.  We can stop an infinite loop with CTRL + C"
   ]
  },
  {
   "cell_type": "raw",
   "id": "13ffe83e-95a1-493e-86a7-e816e8531d55",
   "metadata": {},
   "source": [
    "10. How can you tell the difference between break and continue?\n",
    "\n",
    "Ans.The main difference between both the statements is that when break keyword comes, it terminates the execution of the current loop and passes the control over the next loop or main body, whereas when continue keyword is encountered, it skips the current iteration and executes the very next iteration in the loop.\n"
   ]
  },
  {
   "cell_type": "raw",
   "id": "95556968-dd97-4817-95a6-92316996ffeb",
   "metadata": {},
   "source": [
    "11. In a for loop, what is the difference between range(10), range(0, 10), and range(0, 10, 1)?\n",
    "\n",
    "Ans. There is not any diffrence betweeen range(10), range(0,10) and range(0,10,1). Because in all three cases index value start with 0 with one step and end on 9.\n"
   ]
  },
  {
   "cell_type": "code",
   "execution_count": 16,
   "id": "907a300a-80f6-4947-bb55-1209df7f8261",
   "metadata": {},
   "outputs": [
    {
     "name": "stdout",
     "output_type": "stream",
     "text": [
      "0\n",
      "1\n",
      "2\n",
      "3\n",
      "4\n",
      "5\n",
      "6\n",
      "7\n",
      "8\n",
      "9\n"
     ]
    }
   ],
   "source": [
    "#example:\n",
    "for i in range(10):\n",
    "    print(i)"
   ]
  },
  {
   "cell_type": "code",
   "execution_count": 17,
   "id": "2b1eb970-7dbd-48e6-9294-4e79387c94e7",
   "metadata": {},
   "outputs": [
    {
     "name": "stdout",
     "output_type": "stream",
     "text": [
      "0\n",
      "1\n",
      "2\n",
      "3\n",
      "4\n",
      "5\n",
      "6\n",
      "7\n",
      "8\n",
      "9\n"
     ]
    }
   ],
   "source": [
    "for i in range(0,10):\n",
    "    print(i)"
   ]
  },
  {
   "cell_type": "code",
   "execution_count": 18,
   "id": "b27c56c3-c4a4-4397-b2a7-7c35d0926b82",
   "metadata": {},
   "outputs": [
    {
     "name": "stdout",
     "output_type": "stream",
     "text": [
      "0\n",
      "1\n",
      "2\n",
      "3\n",
      "4\n",
      "5\n",
      "6\n",
      "7\n",
      "8\n",
      "9\n"
     ]
    }
   ],
   "source": [
    "for i in range(0,10,1):\n",
    "    print(i)"
   ]
  },
  {
   "cell_type": "raw",
   "id": "ac66c6ac-3edf-4542-818b-b1c8ce29169b",
   "metadata": {},
   "source": [
    "12. Write a short program that prints the numbers 1 to 10 using a for loop. Then write an equivalent program that prints the numbers 1 to 10 using a while loop."
   ]
  },
  {
   "cell_type": "code",
   "execution_count": 19,
   "id": "3e655f3b-a947-4fc6-a34c-b9d20744751e",
   "metadata": {},
   "outputs": [
    {
     "name": "stdout",
     "output_type": "stream",
     "text": [
      "0\n",
      "1\n",
      "2\n",
      "3\n",
      "4\n",
      "5\n",
      "6\n",
      "7\n",
      "8\n",
      "9\n",
      "10\n"
     ]
    }
   ],
   "source": [
    "for i in range(0,11):\n",
    "    print(i)"
   ]
  },
  {
   "cell_type": "code",
   "execution_count": 21,
   "id": "fefeffe8-f279-4574-b073-3a795ea23c63",
   "metadata": {},
   "outputs": [
    {
     "name": "stdout",
     "output_type": "stream",
     "text": [
      "10\n",
      "9\n",
      "8\n",
      "7\n",
      "6\n",
      "5\n",
      "4\n",
      "3\n",
      "2\n",
      "1\n"
     ]
    }
   ],
   "source": [
    "a = 10\n",
    "while(a !=0):\n",
    "    print(a)\n",
    "    a = a-1"
   ]
  },
  {
   "cell_type": "raw",
   "id": "5261695c-ec8c-4200-880b-574239f198fa",
   "metadata": {},
   "source": [
    "13. If you had a function named bacon() inside a module named spam, how would you call it after importing spam?\n",
    "\n",
    "Ans.  Import bacon from spam."
   ]
  },
  {
   "cell_type": "code",
   "execution_count": null,
   "id": "7ae073cf-0526-4b8f-ad86-e9d42553327a",
   "metadata": {},
   "outputs": [],
   "source": []
  }
 ],
 "metadata": {
  "kernelspec": {
   "display_name": "Python 3 (ipykernel)",
   "language": "python",
   "name": "python3"
  },
  "language_info": {
   "codemirror_mode": {
    "name": "ipython",
    "version": 3
   },
   "file_extension": ".py",
   "mimetype": "text/x-python",
   "name": "python",
   "nbconvert_exporter": "python",
   "pygments_lexer": "ipython3",
   "version": "3.10.6"
  }
 },
 "nbformat": 4,
 "nbformat_minor": 5
}
