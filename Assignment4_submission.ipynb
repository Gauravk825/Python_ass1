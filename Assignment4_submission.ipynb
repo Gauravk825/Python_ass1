{
 "cells": [
  {
   "cell_type": "markdown",
   "id": "aced9561-b67b-4e4e-9cb5-6522185e9ec5",
   "metadata": {},
   "source": [
    "1. What exactly is []?\n",
    "\n",
    "Ans. [] this is use for creating a list. [] is used for creation of empty list. They can be used for slicing operations in a list, tuple or array."
   ]
  },
  {
   "cell_type": "code",
   "execution_count": 1,
   "id": "4563d72c-f5e4-409a-9d71-bf71bf240cb7",
   "metadata": {},
   "outputs": [],
   "source": [
    "# Example\n",
    "\n",
    "l = [1,3,4,5,67,7]"
   ]
  },
  {
   "cell_type": "code",
   "execution_count": 2,
   "id": "e0dca7af-6dfe-42b9-9a5e-52d78d3d255a",
   "metadata": {},
   "outputs": [
    {
     "data": {
      "text/plain": [
       "4"
      ]
     },
     "execution_count": 2,
     "metadata": {},
     "output_type": "execute_result"
    }
   ],
   "source": [
    "l[2]"
   ]
  },
  {
   "cell_type": "code",
   "execution_count": 3,
   "id": "0f6ab3ab-d953-4718-b9ec-a3e6df65c235",
   "metadata": {},
   "outputs": [],
   "source": [
    "a = (2,3,5,8,0)"
   ]
  },
  {
   "cell_type": "code",
   "execution_count": 5,
   "id": "7e5f3fdb-9653-47ad-b557-085ef7fbf125",
   "metadata": {},
   "outputs": [
    {
     "data": {
      "text/plain": [
       "0"
      ]
     },
     "execution_count": 5,
     "metadata": {},
     "output_type": "execute_result"
    }
   ],
   "source": [
    "a[4]"
   ]
  },
  {
   "cell_type": "code",
   "execution_count": 6,
   "id": "64b91854-6fa6-48b5-a9c8-e6c1bbcc16ce",
   "metadata": {},
   "outputs": [],
   "source": [
    "s = \"Kumar\""
   ]
  },
  {
   "cell_type": "code",
   "execution_count": 8,
   "id": "1cba169d-b273-400d-a571-f01c3b8cdb7b",
   "metadata": {},
   "outputs": [
    {
     "data": {
      "text/plain": [
       "'m'"
      ]
     },
     "execution_count": 8,
     "metadata": {},
     "output_type": "execute_result"
    }
   ],
   "source": [
    "s[2]"
   ]
  },
  {
   "cell_type": "markdown",
   "id": "5eff3d4e-6efe-4ba8-8945-b84cf812d345",
   "metadata": {},
   "source": [
    " 2. In a list of values stored in a variable called spam, how would you assign the value 'hello' as the third value? (Assume [2, 4, 6, 8, 10] are in spam.)\n",
    " \n",
    " "
   ]
  },
  {
   "cell_type": "code",
   "execution_count": 9,
   "id": "360fe12a-a36a-4523-b877-826078b76e37",
   "metadata": {},
   "outputs": [],
   "source": [
    "# Ans\n",
    "\n",
    "spam = [2, 4, 6, 8, 10]"
   ]
  },
  {
   "cell_type": "code",
   "execution_count": 10,
   "id": "c2e244fc-584c-4226-a576-658bc7f16a1c",
   "metadata": {},
   "outputs": [],
   "source": [
    "# insering 'hello' as the third value\n",
    "\n",
    "spam.insert(2, \"hello\")"
   ]
  },
  {
   "cell_type": "code",
   "execution_count": 11,
   "id": "516ea86f-f6ba-4de2-8c18-fad6313aedb8",
   "metadata": {},
   "outputs": [
    {
     "data": {
      "text/plain": [
       "[2, 4, 'hello', 6, 8, 10]"
      ]
     },
     "execution_count": 11,
     "metadata": {},
     "output_type": "execute_result"
    }
   ],
   "source": [
    "spam"
   ]
  },
  {
   "cell_type": "markdown",
   "id": "4738082e-6646-46e4-b4c3-1c92a18c63e7",
   "metadata": {},
   "source": [
    "Let's pretend the spam includes the list ['a', 'b', 'c', 'd'] for the next three queries."
   ]
  },
  {
   "cell_type": "code",
   "execution_count": 13,
   "id": "01da7868-4098-44a5-ac75-7fcd77754879",
   "metadata": {},
   "outputs": [],
   "source": [
    "spam = ['a', 'b', 'c', 'd'] "
   ]
  },
  {
   "cell_type": "markdown",
   "id": "ff57515a-3d22-4359-9885-253b335c16b7",
   "metadata": {},
   "source": [
    "3. What is the value of spam[int(int('3' * 2) / 11)]?"
   ]
  },
  {
   "cell_type": "code",
   "execution_count": 16,
   "id": "b2bfbccc-e411-4a16-82ed-f62c05ddcb30",
   "metadata": {},
   "outputs": [
    {
     "data": {
      "text/plain": [
       "'d'"
      ]
     },
     "execution_count": 16,
     "metadata": {},
     "output_type": "execute_result"
    }
   ],
   "source": [
    "#Ans\n",
    "spam[int(int('3'*2)/11)]\n"
   ]
  },
  {
   "cell_type": "code",
   "execution_count": 17,
   "id": "a1a79973-04c4-4838-a38d-e90d6f3a5dbb",
   "metadata": {},
   "outputs": [
    {
     "data": {
      "text/plain": [
       "33"
      ]
     },
     "execution_count": 17,
     "metadata": {},
     "output_type": "execute_result"
    }
   ],
   "source": [
    "int('3'*2)"
   ]
  },
  {
   "cell_type": "markdown",
   "id": "6ef4d328-e8ba-48f8-b95f-08ea575475ed",
   "metadata": {},
   "source": [
    "4. What is the value of spam[-1]?"
   ]
  },
  {
   "cell_type": "code",
   "execution_count": 18,
   "id": "50afee51-2424-40e2-aa4e-54fd36aefb91",
   "metadata": {},
   "outputs": [
    {
     "data": {
      "text/plain": [
       "'d'"
      ]
     },
     "execution_count": 18,
     "metadata": {},
     "output_type": "execute_result"
    }
   ],
   "source": [
    "# Ans\n",
    "\n",
    "spam[-1]"
   ]
  },
  {
   "cell_type": "markdown",
   "id": "3109e704-23d1-45e9-9f74-30adfc05de05",
   "metadata": {},
   "source": [
    "5. What is the value of spam[:2]?"
   ]
  },
  {
   "cell_type": "code",
   "execution_count": 19,
   "id": "f73db17f-acfe-47b4-bf69-c62568a16352",
   "metadata": {},
   "outputs": [
    {
     "data": {
      "text/plain": [
       "['a', 'b']"
      ]
     },
     "execution_count": 19,
     "metadata": {},
     "output_type": "execute_result"
    }
   ],
   "source": [
    "#Ans\n",
    "spam[:2]"
   ]
  },
  {
   "cell_type": "markdown",
   "id": "e91f93ad-d564-4639-a7f0-e7ecc0f23dba",
   "metadata": {},
   "source": [
    "Let's pretend bacon has the list [3.14, 'cat,' 11, 'cat,' True] for the next three questions."
   ]
  },
  {
   "cell_type": "code",
   "execution_count": 29,
   "id": "db793782-9095-485b-8991-7c0ed385a341",
   "metadata": {},
   "outputs": [],
   "source": [
    "bacon = [3.14, 'cat', 11, 'cat', True]"
   ]
  },
  {
   "cell_type": "markdown",
   "id": "789eb92c-abdc-4bb2-a086-1daaec73a0f5",
   "metadata": {},
   "source": [
    "6. What is the value of bacon.index('cat')?"
   ]
  },
  {
   "cell_type": "code",
   "execution_count": 30,
   "id": "45c67a01-5d11-45c5-a110-7e3e49ca374c",
   "metadata": {},
   "outputs": [
    {
     "data": {
      "text/plain": [
       "1"
      ]
     },
     "execution_count": 30,
     "metadata": {},
     "output_type": "execute_result"
    }
   ],
   "source": [
    "# It will show first index value from the list.\n",
    "\n",
    "bacon.index('cat')"
   ]
  },
  {
   "cell_type": "markdown",
   "id": "9f83eb93-0941-4e7c-9c9c-a074d85f2eaf",
   "metadata": {},
   "source": [
    "7. How does bacon.append(99) change the look of the list value in bacon?"
   ]
  },
  {
   "cell_type": "code",
   "execution_count": 31,
   "id": "9409b3f9-2611-4692-997f-7a2655e99724",
   "metadata": {},
   "outputs": [],
   "source": [
    "#Ans \\: Append always add the value in he last in list.\n",
    "bacon.append(99)"
   ]
  },
  {
   "cell_type": "code",
   "execution_count": 32,
   "id": "ab557d82-ed9f-484d-ba44-c9962eb219e3",
   "metadata": {},
   "outputs": [
    {
     "data": {
      "text/plain": [
       "[3.14, 'cat', 11, 'cat', True, 99]"
      ]
     },
     "execution_count": 32,
     "metadata": {},
     "output_type": "execute_result"
    }
   ],
   "source": [
    "bacon"
   ]
  },
  {
   "cell_type": "markdown",
   "id": "867ed646-d623-46e4-9201-dce98d165149",
   "metadata": {},
   "source": [
    "8. How does bacon.remove('cat') change the look of the list in bacon?"
   ]
  },
  {
   "cell_type": "code",
   "execution_count": 33,
   "id": "c7ff9f63-7607-4e9d-b020-107c573a88a7",
   "metadata": {},
   "outputs": [],
   "source": [
    "# Ans\n",
    "bacon.remove('cat')"
   ]
  },
  {
   "cell_type": "code",
   "execution_count": 34,
   "id": "e267c9c2-7547-44be-b583-06c458eacf19",
   "metadata": {},
   "outputs": [
    {
     "data": {
      "text/plain": [
       "[3.14, 11, 'cat', True, 99]"
      ]
     },
     "execution_count": 34,
     "metadata": {},
     "output_type": "execute_result"
    }
   ],
   "source": [
    "bacon"
   ]
  },
  {
   "cell_type": "markdown",
   "id": "8ade72e3-d413-4db0-a6e6-4b0fe2cf07d6",
   "metadata": {},
   "source": [
    "9. What are the list concatenation and list replication operators?\n",
    "\n",
    "Ans. The operator for list concatenation is +, while the operator for replication is *. (This is the same as for strings.)"
   ]
  },
  {
   "cell_type": "markdown",
   "id": "0356d6ff-6beb-413b-92c2-cd0edeb4c8f6",
   "metadata": {},
   "source": [
    "10. What is difference between the list methods append() and insert()?\n",
    "\n",
    "Ans. While append() will add values only to the end of a list, insert() can add them anywhere in the list."
   ]
  },
  {
   "cell_type": "markdown",
   "id": "076059bf-53e9-46aa-8c4c-298cc8c68932",
   "metadata": {},
   "source": [
    "11. What are the two methods for removing items from a list?\n",
    "\n",
    "Ans. we can remove items using remove and pop method."
   ]
  },
  {
   "cell_type": "code",
   "execution_count": 37,
   "id": "76d82872-d132-45b0-8497-fb1628143fbb",
   "metadata": {},
   "outputs": [],
   "source": [
    "# Example\n",
    "l = [1,2,3,4,5,6,7]"
   ]
  },
  {
   "cell_type": "code",
   "execution_count": 38,
   "id": "2ca79b2f-5915-4a2a-a4db-e4135393a858",
   "metadata": {},
   "outputs": [
    {
     "data": {
      "text/plain": [
       "7"
      ]
     },
     "execution_count": 38,
     "metadata": {},
     "output_type": "execute_result"
    }
   ],
   "source": [
    "# po() will remove lat value from the list\n",
    "l.pop()"
   ]
  },
  {
   "cell_type": "code",
   "execution_count": 40,
   "id": "db548c49-feb3-46cb-9108-88863a2c69f3",
   "metadata": {},
   "outputs": [],
   "source": [
    "# remove() will remove the desired value from the list.\n",
    "l.remove(4)"
   ]
  },
  {
   "cell_type": "code",
   "execution_count": 41,
   "id": "4b89e77d-bff0-4b7d-aac1-b23ffdedcf93",
   "metadata": {},
   "outputs": [
    {
     "data": {
      "text/plain": [
       "[1, 2, 3, 5, 6]"
      ]
     },
     "execution_count": 41,
     "metadata": {},
     "output_type": "execute_result"
    }
   ],
   "source": [
    "l"
   ]
  },
  {
   "cell_type": "markdown",
   "id": "8d83d9c6-c34d-4e89-89a7-ff96215b5e6a",
   "metadata": {},
   "source": [
    "12. Describe how list values and string values are identical.\n",
    "\n",
    "Ans. The values that make up a list are called its elements. Lists are similar to strings, which are ordered collections of characters, except that the elements of a list can have any type and for any one list, the items can be of different types."
   ]
  },
  {
   "cell_type": "markdown",
   "id": "90c77f98-a507-4c9f-945b-558e7e596c42",
   "metadata": {},
   "source": [
    "13. What's the difference between tuples and lists?\n",
    "\n",
    "Ans. List are mutable and tuple are not mutable."
   ]
  },
  {
   "cell_type": "markdown",
   "id": "e472d2ba-fc2a-4dc1-b0fe-ee62b6759dd7",
   "metadata": {},
   "source": [
    "14. How do you type a tuple value that only contains the integer 42?\n"
   ]
  },
  {
   "cell_type": "code",
   "execution_count": 67,
   "id": "09a1f6e1-f027-4fc1-a8ab-4af1246e63ba",
   "metadata": {},
   "outputs": [],
   "source": [
    "# Ans \n",
    "d = (42,) #the trailing comma is mandatory"
   ]
  },
  {
   "cell_type": "code",
   "execution_count": 68,
   "id": "07396240-7e13-4d80-b8ef-7eca61e431e0",
   "metadata": {},
   "outputs": [
    {
     "data": {
      "text/plain": [
       "(42,)"
      ]
     },
     "execution_count": 68,
     "metadata": {},
     "output_type": "execute_result"
    }
   ],
   "source": [
    "d "
   ]
  },
  {
   "cell_type": "markdown",
   "id": "64c5e114-b8cb-48b9-b609-977fe107d98e",
   "metadata": {},
   "source": [
    "15. How do you get a list value's tuple form? How do you get a tuple value's list form?\n"
   ]
  },
  {
   "cell_type": "code",
   "execution_count": 1,
   "id": "a672497a-c49b-4119-a31f-504049a0e6dd",
   "metadata": {},
   "outputs": [],
   "source": [
    "# Ans\n",
    "\n",
    "l = [1,2,3,4,5,6,7,7,7]"
   ]
  },
  {
   "cell_type": "code",
   "execution_count": 2,
   "id": "e900514a-68ad-40f3-982b-ae8ec15c4f6f",
   "metadata": {},
   "outputs": [
    {
     "data": {
      "text/plain": [
       "(1, 2, 3, 4, 5, 6, 7, 7, 7)"
      ]
     },
     "execution_count": 2,
     "metadata": {},
     "output_type": "execute_result"
    }
   ],
   "source": [
    "tuple(l)"
   ]
  },
  {
   "cell_type": "code",
   "execution_count": 3,
   "id": "d8b4e5be-779f-46b1-a5c1-1bb1ab03346c",
   "metadata": {},
   "outputs": [],
   "source": [
    "t = (1,2,3,44,5,6,89)"
   ]
  },
  {
   "cell_type": "code",
   "execution_count": 4,
   "id": "0937957a-21d1-4608-b23c-a65e91d8bc95",
   "metadata": {},
   "outputs": [
    {
     "data": {
      "text/plain": [
       "[1, 2, 3, 44, 5, 6, 89]"
      ]
     },
     "execution_count": 4,
     "metadata": {},
     "output_type": "execute_result"
    }
   ],
   "source": [
    "list(t)"
   ]
  },
  {
   "cell_type": "markdown",
   "id": "69a645e9-465b-43d6-b416-503e84b246a1",
   "metadata": {},
   "source": [
    "16. Variables that \"contain\" list values are not necessarily lists themselves. Instead, what do they contain?\n",
    "\n",
    "Ans. Variables will contain references to list values rather than list values themselves. But for strings and integer values, variables simply contain the string or integer value. \n"
   ]
  },
  {
   "cell_type": "markdown",
   "id": "4abf37a1-9c48-4345-be55-911f4b205392",
   "metadata": {},
   "source": [
    "17. How do you distinguish between copy.copy() and copy.deepcopy()?\n",
    "\n",
    "Ans. copy() create reference to original object. If you change copied object - you change the original object. . deepcopy() creates new object and does real copying of original object to new one. Changing new deepcopied object doesn't affect original object."
   ]
  },
  {
   "cell_type": "code",
   "execution_count": null,
   "id": "5a9b2d33-c87b-41dd-a4d4-ad59bc54f8ed",
   "metadata": {},
   "outputs": [],
   "source": []
  }
 ],
 "metadata": {
  "kernelspec": {
   "display_name": "Python 3 (ipykernel)",
   "language": "python",
   "name": "python3"
  },
  "language_info": {
   "codemirror_mode": {
    "name": "ipython",
    "version": 3
   },
   "file_extension": ".py",
   "mimetype": "text/x-python",
   "name": "python",
   "nbconvert_exporter": "python",
   "pygments_lexer": "ipython3",
   "version": "3.10.6"
  }
 },
 "nbformat": 4,
 "nbformat_minor": 5
}
