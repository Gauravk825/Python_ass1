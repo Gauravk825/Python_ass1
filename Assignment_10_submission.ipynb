{
 "cells": [
  {
   "cell_type": "markdown",
   "id": "ff194226-632a-453c-ae5c-120cb22f0d5a",
   "metadata": {},
   "source": [
    "1. How do you distinguish between shutil.copy() and shutil.copytree()?\n",
    "\n",
    "Ans. The shutil.copy() function will copy a single file, while shutil.copytree() will copy an entire folder, along with all its contents."
   ]
  },
  {
   "cell_type": "markdown",
   "id": "a0fac8a2-7d13-4bb3-9c86-cd33b9b59ae2",
   "metadata": {},
   "source": [
    "2. What function is used to rename files??\n",
    "\n",
    "Ans. The shutil.move() function is used for renaming files, as well as moving them.\n",
    "\n"
   ]
  },
  {
   "cell_type": "markdown",
   "id": "bc0e91c6-570b-4811-8487-c07af58f9d5f",
   "metadata": {},
   "source": [
    "3. What is the difference between the delete functions in the send2trash and shutil modules?\n",
    "\n",
    "Ans. The send2trash functions will move a file or folder to the recycle bin, while shutil functions will permanently delete files and folders."
   ]
  },
  {
   "cell_type": "markdown",
   "id": "8b157ff9-740b-4c18-baef-d4757b846a70",
   "metadata": {},
   "source": [
    "4. ZipFile objects have a close() method just like File objects’ close() method. What ZipFile method is equivalent to File objects’ open() method?\n",
    "\n",
    "Ans. The zipfile.ZipFile() function is equivalent to the open() \n",
    "\n",
    "function; the first argument is the filename, and the second argument is \n",
    "\n",
    "the mode to open the ZIP file in (read, write, or append)."
   ]
  },
  {
   "cell_type": "markdown",
   "id": "70b4ba50-2320-41bf-8bf8-871e6b2e3891",
   "metadata": {},
   "source": [
    "5. Create a programme that searches a folder tree for files with a certain file extension (such as .pdf or .jpg). Copy these files from whatever location they are in to a new folder.\n",
    "\n",
    "Ans. "
   ]
  },
  {
   "cell_type": "code",
   "execution_count": 5,
   "id": "7bea3935-f732-474d-b181-1bc198700a04",
   "metadata": {},
   "outputs": [
    {
     "name": "stdin",
     "output_type": "stream",
     "text": [
      "Enter the absolute path of the source folder:  hj\n",
      "Enter the type of file to copy (such as .pdf or .jpg):  jhjj\n",
      "Enter the absolute path of the destination folder:  jjhgj'\n"
     ]
    }
   ],
   "source": [
    "import os, shutil\n",
    "\n",
    "sourcePath = input('Enter the absolute path of the source folder: ')\n",
    "fileExtType = input('Enter the type of file to copy (such as .pdf or .jpg): ').lower()\n",
    "destPath = input('Enter the absolute path of the destination folder: ')\n",
    "\n",
    "for foldername, subfolders, filenames in os.walk(sourcePath):\n",
    "    for filename in filenames:\n",
    "        if filename.lower().endswith(fileExtType):\n",
    "            #print(foldername + ‘\\\\’ + filename)\n",
    "            copySourcePath = os.path.join(foldername, filename)\n",
    "            #print(copySourcePath)\n",
    "            shutil.copy(copySourcePath, destPath)\n",
    "        else:\n",
    "             continue"
   ]
  },
  {
   "cell_type": "code",
   "execution_count": null,
   "id": "46f744e6-3fc0-4ebf-9eb8-289d824a07ce",
   "metadata": {},
   "outputs": [],
   "source": []
  }
 ],
 "metadata": {
  "kernelspec": {
   "display_name": "Python 3 (ipykernel)",
   "language": "python",
   "name": "python3"
  },
  "language_info": {
   "codemirror_mode": {
    "name": "ipython",
    "version": 3
   },
   "file_extension": ".py",
   "mimetype": "text/x-python",
   "name": "python",
   "nbconvert_exporter": "python",
   "pygments_lexer": "ipython3",
   "version": "3.10.6"
  }
 },
 "nbformat": 4,
 "nbformat_minor": 5
}
