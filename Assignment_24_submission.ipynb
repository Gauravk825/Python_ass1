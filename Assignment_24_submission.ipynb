{
 "cells": [
  {
   "cell_type": "markdown",
   "id": "97fff5fc-26af-4c0b-ad7e-f721c94fa309",
   "metadata": {},
   "source": [
    "1. What is the relationship between def statements and lambda expressions ?\n",
    "\n",
    "Ans. Both lambda and def create the same kind of function – they have the same kind of metadata and capabilities. Their technical difference is syntactical:\n",
    "\n",
    "A lambda is an expression producing a function.\n",
    "\n",
    "A def is a statement producing a function."
   ]
  },
  {
   "cell_type": "markdown",
   "id": "026e1f24-6f6c-4089-9355-d599e5b2cbf2",
   "metadata": {},
   "source": [
    "2. What is the benefit of lambda?\n",
    "\n",
    "Ans. The lambda keyword in Python provides a shortcut for declaring small anonymous functions. Lambda functions behave just like regular functions declared with the def keyword. They can be used whenever function objects are required."
   ]
  },
  {
   "cell_type": "markdown",
   "id": "be89ae03-098c-426e-bd65-07233e86add5",
   "metadata": {},
   "source": [
    "3. Compare and contrast map, filter, and reduce.\n",
    "\n",
    "Ans. Both map and reduce have as input the array and a function you define. They are in some way complementary: map cannot return one single element for an array of multiple elements, while reduce will always return the accumulator you eventually changed."
   ]
  },
  {
   "cell_type": "markdown",
   "id": "2c2876e4-dfd3-4a8e-a4ff-bbb03ac37e49",
   "metadata": {},
   "source": [
    "4. What are function annotations, and how are they used?\n",
    "\n",
    "Ans. Function annotations are arbitrary python expressions that are associated with various part of functions. These expressions are evaluated at compile time and have no life in python's runtime environment. Python does not attach any meaning to these annotations."
   ]
  },
  {
   "cell_type": "markdown",
   "id": "d3831931-7f40-4eec-bc8e-c67812dc687c",
   "metadata": {},
   "source": [
    "5. What are recursive functions, and how are they used?\n",
    "\n",
    "Ans. A recursive function is a function in code that refers to itself for execution. Recursive functions can be simple or elaborate. They allow for more efficient code writing, for instance, in the listing or compiling of sets of numbers, strings or other variables through a single reiterated process."
   ]
  },
  {
   "cell_type": "markdown",
   "id": "c2d3e110-3e4e-461d-8772-381e27ebc4bd",
   "metadata": {},
   "source": [
    "6. What are some general design guidelines for coding functions?\n",
    "\n",
    "Ans. \n",
    "1.Use 4 spaces instead of tabs.\n",
    "\n",
    "2.Maximum line length is 120 symbols.\n",
    "\n",
    "2.blank lines between classes and functions\n",
    "\n",
    "3.1 blank line within class between class methods.\n",
    "\n",
    "4.No blank line following a def line.\n",
    "\n",
    "5.No whitespace inside parentheses, brackets, or braces."
   ]
  },
  {
   "cell_type": "markdown",
   "id": "7c8bf750-e345-4cd7-8d79-102870726335",
   "metadata": {},
   "source": [
    "7. Name three or more ways that functions can communicate results to a caller.\n",
    "\n",
    "Ans. \n",
    "1.function without arguments and without return value.\n",
    "\n",
    "2.function without arguments and with return value.\n",
    "\n",
    "3.function with arguments and without return value.\n",
    "\n",
    "4.function with arguments and with return value."
   ]
  },
  {
   "cell_type": "code",
   "execution_count": null,
   "id": "4d063fdf-f5e5-435a-9298-6b488dc891ad",
   "metadata": {},
   "outputs": [],
   "source": []
  }
 ],
 "metadata": {
  "kernelspec": {
   "display_name": "Python 3 (ipykernel)",
   "language": "python",
   "name": "python3"
  },
  "language_info": {
   "codemirror_mode": {
    "name": "ipython",
    "version": 3
   },
   "file_extension": ".py",
   "mimetype": "text/x-python",
   "name": "python",
   "nbconvert_exporter": "python",
   "pygments_lexer": "ipython3",
   "version": "3.10.6"
  }
 },
 "nbformat": 4,
 "nbformat_minor": 5
}
