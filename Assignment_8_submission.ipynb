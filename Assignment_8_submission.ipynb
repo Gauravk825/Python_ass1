{
 "cells": [
  {
   "cell_type": "markdown",
   "id": "2b9991d6-873a-4a6f-88fc-d42ce5a3bb29",
   "metadata": {},
   "source": [
    "1. Is the Python Standard Library included with PyInputPlus?\n",
    "\n",
    "Ans. PyInputPlus is not a part of the Python Standard Library, we must install it separately using Pip.\n"
   ]
  },
  {
   "cell_type": "markdown",
   "id": "636b7df5-6e54-4b27-806e-8bc263d98b70",
   "metadata": {},
   "source": [
    "2. Why is PyInputPlus commonly imported with import pyinputplus as pypi?\n",
    "\n",
    "Ans. You can import the module with import pyinputplus as pyip so that you can enter a shorter name when calling the module’s functions."
   ]
  },
  {
   "cell_type": "markdown",
   "id": "d5f36c65-33be-4aed-a356-13fa41612e55",
   "metadata": {},
   "source": [
    "3. How do you distinguish between inputInt() and inputFloat()?\n",
    "\n",
    "Ans. The difference is in the data-type when you use the first one the program expects an integer value as input but in the latter it expects a float value i.e number containing a decimal\n",
    "\n"
   ]
  },
  {
   "cell_type": "markdown",
   "id": "c54c97a3-caa8-4cd1-b85f-02af35572c7f",
   "metadata": {},
   "source": [
    "4. Using PyInputPlus, how do you ensure that the user enters a whole number between 0 and 99?\n",
    "\n",
    "Ans.  By using pyip.inputint(min=0, max=99)"
   ]
  },
  {
   "cell_type": "markdown",
   "id": "f15fe087-2ba5-4a42-b513-27e26b22e73b",
   "metadata": {},
   "source": [
    "5. What is transferred to the keyword arguments allowRegexes and blockRegexes?\n",
    "\n",
    "Ans. A list of regex strings that are either explicitly allowed or denied"
   ]
  },
  {
   "cell_type": "markdown",
   "id": "a4154819-686a-4b1a-8547-0e3a68221ad2",
   "metadata": {},
   "source": [
    "6. If a blank input is entered three times, what does inputStr(limit=3) do?\n",
    "\n",
    "Ans. The function will raise RetryLimitException."
   ]
  },
  {
   "cell_type": "markdown",
   "id": "4a3293a0-df98-4889-b039-96ba935d04bf",
   "metadata": {},
   "source": [
    "7. If blank input is entered three times, what does inputStr(limit=3, default='hello') do?\n",
    "\n",
    "Ans. The function returns the value 'hello'"
   ]
  },
  {
   "cell_type": "code",
   "execution_count": null,
   "id": "689c2c7d-b9c0-46e8-a10b-9999aa60461e",
   "metadata": {},
   "outputs": [],
   "source": []
  },
  {
   "cell_type": "code",
   "execution_count": null,
   "id": "9bafd5e1-fb07-461d-91c6-f404aab022eb",
   "metadata": {},
   "outputs": [],
   "source": []
  }
 ],
 "metadata": {
  "kernelspec": {
   "display_name": "Python 3 (ipykernel)",
   "language": "python",
   "name": "python3"
  },
  "language_info": {
   "codemirror_mode": {
    "name": "ipython",
    "version": 3
   },
   "file_extension": ".py",
   "mimetype": "text/x-python",
   "name": "python",
   "nbconvert_exporter": "python",
   "pygments_lexer": "ipython3",
   "version": "3.10.6"
  }
 },
 "nbformat": 4,
 "nbformat_minor": 5
}
