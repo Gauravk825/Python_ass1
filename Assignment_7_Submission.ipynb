{
 "cells": [
  {
   "cell_type": "markdown",
   "id": "1fcedde7-ec08-496d-8c60-5ca61b692f2f",
   "metadata": {},
   "source": [
    "1. What is the name of the feature responsible for generating Regex objects?\n",
    "\n",
    "Ans. The re.compile() function returns Regex objects."
   ]
  },
  {
   "cell_type": "markdown",
   "id": "f272ff40-4bdc-4af8-8573-4e7ea52ef05d",
   "metadata": {},
   "source": [
    "2. Why do raw strings often appear in Regex objects?\n",
    "\n",
    "Ans. Raw strings are used so that backslashes do not have to be escaped."
   ]
  },
  {
   "cell_type": "markdown",
   "id": "4f1feefc-b157-4a24-8a21-f96210bcd73a",
   "metadata": {},
   "source": [
    "3. What is the return value of the search() method?\n",
    "\n",
    "Ans.  The function searches for some substring in a string and returns a match object if found, else it returns none.\n"
   ]
  },
  {
   "cell_type": "code",
   "execution_count": 1,
   "id": "d8ef35f4-a3fb-4104-8151-cf965ce23786",
   "metadata": {},
   "outputs": [
    {
     "name": "stdout",
     "output_type": "stream",
     "text": [
      "<re.Match object; span=(75, 81), match='string'>\n"
     ]
    }
   ],
   "source": [
    "import re\n",
    " \n",
    "Substring ='string'\n",
    " \n",
    " \n",
    "String1 ='''We are learning regex with geeksforgeeks\n",
    "         regex is very useful for string matching.\n",
    "          It is fast too.'''\n",
    "print(re.search(Substring, String1, re.IGNORECASE))"
   ]
  },
  {
   "cell_type": "markdown",
   "id": "31d052c2-ca30-4cbc-8853-e1ea5010a9ec",
   "metadata": {},
   "source": [
    "4. From a Match item, how do you get the actual strings that match the pattern?\n",
    "\n",
    "Ans. \n",
    "1. Import the regex module with import re.\n",
    "\n",
    "2. Create a Regex object with the re.\n",
    "\n",
    "3. Pass the string you want to search into the Regex object's search() method.\n",
    "\n",
    "4. Call the Match object's group() method to return a string of the actual matched text."
   ]
  },
  {
   "cell_type": "markdown",
   "id": "7296fbfe-3a7f-473c-9851-a26da5a56acd",
   "metadata": {},
   "source": [
    "5. In the regex which created from the r'(\\d\\d\\d)-(\\d\\d\\d-\\d\\d\\d\\d)', what does group zero cover? Group 2? Group 1?\n",
    "\n",
    "Ans. Group 0 is the entire match, group 1 covers the first set of parentheses, and group 2 covers the second set of parentheses."
   ]
  },
  {
   "cell_type": "markdown",
   "id": "a36e7c9c-600b-4e30-a622-d07c65a84bae",
   "metadata": {},
   "source": [
    "6. In standard expression syntax, parentheses and intervals have distinct meanings. How can you tell a regex that you want it to fit real parentheses and periods?\n",
    "\n",
    "Ans.Periods and parentheses can be escaped with a backslash: \\ ., \\ (, and \\)."
   ]
  },
  {
   "cell_type": "markdown",
   "id": "12ed3dca-e07c-4d17-a338-5a066dfccdbf",
   "metadata": {},
   "source": [
    "7. The findall() method returns a string list or a list of string tuples. What causes it to return one of the two options?\n",
    "\n",
    "Ans. If the regex has no groups, a list of strings is returned. If the regex has groups, a list of tuples of strings is returned"
   ]
  },
  {
   "cell_type": "markdown",
   "id": "99a49711-8388-47a4-aac8-a847b71c127a",
   "metadata": {},
   "source": [
    "8. In standard expressions, what does the | character mean?\n",
    "\n",
    "Ans. The | character signifies matching “either, or” between two groups."
   ]
  },
  {
   "cell_type": "markdown",
   "id": "e248b7cd-d58e-4926-a437-57f834368d79",
   "metadata": {},
   "source": [
    "9. In regular expressions, what does the character stand for?\n",
    "\n",
    "Ans.  which character ?not mentioned"
   ]
  },
  {
   "cell_type": "markdown",
   "id": "6a2f2b03-7d24-4d41-9115-f8a7b6dfb638",
   "metadata": {},
   "source": [
    "10.In regular expressions, what is the difference between the + and * characters?\n",
    "\n",
    "Ans. The + matches one or more. The * matches zero or more."
   ]
  },
  {
   "cell_type": "markdown",
   "id": "a2ff1693-9686-430f-a2d0-60c7c77fad69",
   "metadata": {},
   "source": [
    "11. What is the difference between {4} and {4,5} in regular expression?\n",
    "\n",
    "Ans. The {4} matches exactly four instances of the preceding group. The {4,5} matches between four and five instances."
   ]
  },
  {
   "cell_type": "markdown",
   "id": "3903926a-c4ad-4f6d-ab13-17f5bebc4cdd",
   "metadata": {},
   "source": [
    "12. What do you mean by the \\d, \\w, and \\s shorthand character classes signify in regular expressions?\n",
    "\n",
    "Ans. \n",
    "\\d - Digit (0-9)\n",
    "\n",
    "\\w - Word Character (a-z, A-Z, 0-9, _)\n",
    "\n",
    "\\s - Whitespace (space, tab, newline)"
   ]
  },
  {
   "cell_type": "markdown",
   "id": "b9e1b030-a869-43c2-b9a4-8c3cd7a9f69b",
   "metadata": {},
   "source": [
    "13. What do means by \\D, \\W, and \\S shorthand character classes signify in regular expressions?\n",
    "\n",
    "Ans.\n",
    "\\D - Not a Digit (0-9)\n",
    "\n",
    "\\W - Not a Word Character\n",
    "\n",
    "\\S - Not Whitespace (space, tab, newline)"
   ]
  },
  {
   "cell_type": "markdown",
   "id": "767c2faf-bfd5-4150-be26-967903a5a1e9",
   "metadata": {},
   "source": [
    "14. What is the difference between .* and .*?\n",
    "\n",
    "Ans.  The .* performs a greedy match, and the .*? performs a nongreedy match."
   ]
  },
  {
   "cell_type": "markdown",
   "id": "2401c26b-84ca-4ea3-9249-433408518516",
   "metadata": {},
   "source": [
    "15. What is the syntax for matching both numbers and lowercase letters with a character class?\n",
    "\n",
    "Ans. Either [0-9a-z] or [a-z0-9]"
   ]
  },
  {
   "cell_type": "markdown",
   "id": "1cd05f16-38bc-458c-aabf-094b8121de75",
   "metadata": {},
   "source": [
    "16. What is the procedure for making a normal expression in regax case insensitive?\n",
    "\n",
    "Ans. Passing re.I or re.IGNORECASE as the second argument to re.compile() will make the matching case insensitive."
   ]
  },
  {
   "cell_type": "markdown",
   "id": "8b9d4bd9-0f8b-4e9f-a07e-d898ce64e8df",
   "metadata": {},
   "source": [
    "17. What does the . character normally match? What does it match if re.DOTALL is passed as 2nd argument in re.compile()?\n",
    "\n",
    "Ans. The . character normally matches any character except the newline character. If re.DOTALL is passed as the second argument to re.compile(), then the dot will also match newline characters."
   ]
  },
  {
   "cell_type": "markdown",
   "id": "aa8a5c27-eef9-4f47-a9a5-35c16bd21813",
   "metadata": {},
   "source": [
    "18. If numReg = re.compile(r'\\d+'), what will numRegex.sub('X', '11 drummers, 10 pipers, five rings, 4 hen') return?\n"
   ]
  },
  {
   "cell_type": "code",
   "execution_count": 5,
   "id": "cce2eb5a-694f-43b4-a541-f5dc675e3a2a",
   "metadata": {},
   "outputs": [
    {
     "data": {
      "text/plain": [
       "'X drummers, X pipers, five rings, X hen'"
      ]
     },
     "execution_count": 5,
     "metadata": {},
     "output_type": "execute_result"
    }
   ],
   "source": [
    "import re\n",
    "numRegex = re.compile(r'\\d+')\n",
    "numRegex.sub('X', '11 drummers, 10 pipers, five rings, 4 hen')"
   ]
  },
  {
   "cell_type": "markdown",
   "id": "efe0745f-6664-42ac-bc67-91cb7bd69ec7",
   "metadata": {},
   "source": [
    "19. What does passing re.VERBOSE as the 2nd argument to re.compile() allow to do?\n",
    "\n",
    "Ans. The re.VERBOSE argument allows you to add whitespace and comments to the string passed to re.compile()\n"
   ]
  },
  {
   "cell_type": "markdown",
   "id": "34fa7cb4-8300-466a-9392-74295fde1d32",
   "metadata": {},
   "source": [
    "20. How would you write a regex that match a number with comma for every three digits? It must match the given following:\n",
    "\n",
    "'42'\n",
    "\n",
    "'1,234'\n",
    "\n",
    "'6,368,745'\n",
    "\n",
    "but not the following:\n",
    "\n",
    "'12,34,567' (which has only two digits between the commas)\n",
    "\n",
    "'1234' (which lacks commas)\n",
    "\n",
    "\n",
    "Ans. e.compile(r'^\\d{1,3}(,{3})*$') will create this regex, but other regex strings can produce a similar regular expression.\n"
   ]
  },
  {
   "cell_type": "code",
   "execution_count": 30,
   "id": "e865a0cc-c051-4a78-8042-11d5b5c12698",
   "metadata": {},
   "outputs": [],
   "source": [
    "string = \"\"\"\n",
    "42\n",
    "\n",
    "1,234\n",
    "\n",
    "6,368,745\n",
    "\n",
    "12,34,567\n",
    "\n",
    "1234\n",
    "\n",
    "\"\"\"\n",
    "\n",
    "pattern = re.compile(r'^\\d{1,3}(,{3})*$')\n",
    "matches = pattern.finditer(string)"
   ]
  },
  {
   "cell_type": "code",
   "execution_count": 31,
   "id": "e82bf22b-ef9d-41b4-8767-398c76821a9d",
   "metadata": {},
   "outputs": [],
   "source": [
    "for match in matches:\n",
    "    print(match)"
   ]
  },
  {
   "cell_type": "markdown",
   "id": "94e915ae-b314-43a1-85c4-00c78a965719",
   "metadata": {},
   "source": [
    "21. How would you write a regex that matches the full name of someone whose last name is Watanabe? You can assume that the first name that comes before it will always be one word that begins with a capital letter. The regex must match the following:\n",
    "'Haruto Watanabe'\n",
    "\n",
    "\n",
    "'Alice Watanabe'\n",
    "\n",
    "'RoboCop Watanabe'\n",
    "\n",
    "but not the following:\n",
    "\n",
    "'haruto Watanabe' (where the first name is not capitalized)\n",
    "\n",
    "'Mr. Watanabe' (where the preceding word has a nonletter character)\n",
    "\n",
    "'Watanabe' (which has no first name)\n",
    "\n",
    "'Haruto watanabe' (where Watanabe is not capitalized)\n",
    "\n"
   ]
  },
  {
   "cell_type": "code",
   "execution_count": 23,
   "id": "bba69871-176c-4bb5-9c08-a1a185c77711",
   "metadata": {},
   "outputs": [],
   "source": [
    "s = \"\"\" \n",
    "Alice Watanabe\n",
    "\n",
    "RoboCop Watanabe\n",
    "\n",
    "but not the following:\n",
    "\n",
    "haruto Watanabe\n",
    "\n",
    "Mr. Watanabe\n",
    "\n",
    "Watanabe\n",
    "\n",
    "Haruto watanabe\n",
    "\"\"\""
   ]
  },
  {
   "cell_type": "code",
   "execution_count": 24,
   "id": "62e35cbd-86d7-447c-a625-c12ee6326868",
   "metadata": {},
   "outputs": [],
   "source": [
    "pattern = re.compile(r'[A-Z][a-z]*\\sWatanabe')\n",
    "matches = pattern.finditer(s)"
   ]
  },
  {
   "cell_type": "code",
   "execution_count": 25,
   "id": "02349443-0c65-4147-98b8-463fb6864981",
   "metadata": {},
   "outputs": [
    {
     "data": {
      "text/plain": [
       "<callable_iterator at 0x7f1a5c559fc0>"
      ]
     },
     "execution_count": 25,
     "metadata": {},
     "output_type": "execute_result"
    }
   ],
   "source": [
    "matches"
   ]
  },
  {
   "cell_type": "code",
   "execution_count": 26,
   "id": "41f72b7b-9b79-4e91-abe2-ce29e49c537f",
   "metadata": {},
   "outputs": [
    {
     "name": "stdout",
     "output_type": "stream",
     "text": [
      "<re.Match object; span=(2, 16), match='Alice Watanabe'>\n",
      "<re.Match object; span=(22, 34), match='Cop Watanabe'>\n"
     ]
    }
   ],
   "source": [
    "for match in matches:\n",
    "    print(match)"
   ]
  },
  {
   "cell_type": "markdown",
   "id": "4396dca6-12c5-44f1-b949-75b867338605",
   "metadata": {},
   "source": [
    "22. How would you write a regex that matches a sentence where the first word is either Alice, Bob, or Carol; the second word is either eats, pets, or throws; the third word is apples, cats, or baseballs; and the sentence ends with a period? This regex should be case-insensitive. It must match the following:\n",
    "\n",
    "'Alice eats apples.'\n",
    "\n",
    "'Bob pets cats.'\n",
    "\n",
    "'Carol throws baseballs.'\n",
    "\n",
    "'Alice throws Apples.'\n",
    "\n",
    "'BOB EATS CATS.'\n",
    "\n",
    "but not the following:\n",
    "\n",
    "\n",
    "'RoboCop eats apples.'\n",
    "\n",
    "'ALICE THROWS FOOTBALLS.'\n",
    "\n",
    "'Carol eats 7 cats.'\n"
   ]
  },
  {
   "cell_type": "code",
   "execution_count": 33,
   "id": "1c71fe26-e802-4fc3-8ddc-98c982f77f2a",
   "metadata": {},
   "outputs": [],
   "source": [
    "s = '''\n",
    "Alice eats apples.\n",
    "\n",
    "Bob pets cats.\n",
    "\n",
    "Carol throws baseballs.\n",
    "\n",
    "Alice throws Apples.\n",
    "\n",
    "BOB EATS CATS.\n",
    "\n",
    "RoboCop eats apples.\n",
    "\n",
    "ALICE THROWS FOOTBALLS.\n",
    "\n",
    "Carol eats 7 cats.\n",
    "'''"
   ]
  },
  {
   "cell_type": "code",
   "execution_count": 34,
   "id": "e46ffb68-63a7-4144-9814-745d46d4f952",
   "metadata": {},
   "outputs": [],
   "source": [
    "pattern = re.compile(r'(Alice|Bob|Carol)\\s(eats|pets|throws)\\ s(apples|cats|baseballs)\\.', re.IGNORECASE)\n",
    "matches = pattern.finditer(s)"
   ]
  },
  {
   "cell_type": "code",
   "execution_count": 35,
   "id": "826e7648-3f6c-4657-9bfd-9d1a12716e87",
   "metadata": {},
   "outputs": [],
   "source": [
    "for match in matches:\n",
    "    print(match)"
   ]
  },
  {
   "cell_type": "code",
   "execution_count": null,
   "id": "ed3aa7e1-e64f-4fb5-90e9-139855383535",
   "metadata": {},
   "outputs": [],
   "source": []
  }
 ],
 "metadata": {
  "kernelspec": {
   "display_name": "Python 3 (ipykernel)",
   "language": "python",
   "name": "python3"
  },
  "language_info": {
   "codemirror_mode": {
    "name": "ipython",
    "version": 3
   },
   "file_extension": ".py",
   "mimetype": "text/x-python",
   "name": "python",
   "nbconvert_exporter": "python",
   "pygments_lexer": "ipython3",
   "version": "3.10.6"
  }
 },
 "nbformat": 4,
 "nbformat_minor": 5
}
