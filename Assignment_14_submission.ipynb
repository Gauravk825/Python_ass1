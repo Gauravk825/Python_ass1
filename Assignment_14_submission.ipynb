{
 "cells": [
  {
   "cell_type": "markdown",
   "id": "104bccaa-963c-483f-84ab-d9a87dba737d",
   "metadata": {},
   "source": [
    "Q.1 What does RGBA stand for?\n",
    "\n",
    "Ans. RGBA color values are an extension of RGB color values with an alpha channel - which specifies the opacity for a color. An RGBA color value is specified with: rgba(red, green, blue, alpha).\n",
    "\n"
   ]
  },
  {
   "cell_type": "markdown",
   "id": "1c6a431f-6b82-444e-bdaa-6df051acd830",
   "metadata": {},
   "source": [
    "Q.2 From the Pillow module, how do you get the RGBA value of any images?\n",
    "\n",
    "Ans. A function call to ImageColor.getcolor('CornflowerBlue', 'RGBA') will return (100, 149, 237, 255), the RGBA value for that color."
   ]
  },
  {
   "cell_type": "markdown",
   "id": "8b3947a1-df2c-4ef0-8d70-14d56206a4ee",
   "metadata": {},
   "source": [
    "Q.3What is a box tuple, and how does it work?\n",
    "\n",
    "Ans. A box tuple is a tuple value of four integers: the left-edge x-coordinate, the top-edge y-coordinate, the width, and the height, respectively."
   ]
  },
  {
   "cell_type": "markdown",
   "id": "71fa6fc9-ae96-4104-b1b0-b792c4670210",
   "metadata": {},
   "source": [
    "Q.4 Use your image and load in notebook then, How can you find out the width and height of an Image object?\n",
    "\n",
    "Ans. img.size is a tuple of two integers, the width and the height."
   ]
  },
  {
   "cell_type": "code",
   "execution_count": 2,
   "id": "5147cfc2-2b36-422e-9918-dbcab6af5892",
   "metadata": {},
   "outputs": [
    {
     "data": {
      "image/png": "[encoded data removed]",
      "text/plain": [
       "<PIL.PngImagePlugin.PngImageFile image mode=P size=311x162>"
      ]
     },
     "execution_count": 2,
     "metadata": {},
     "output_type": "execute_result"
    }
   ],
   "source": [
    "from PIL import Image\n",
    "img = Image.open('facebook.png')\n",
    "img"
   ]
  },
  {
   "cell_type": "markdown",
   "id": "1d8e94b4-fac6-42a9-8b94-09a90eee4201",
   "metadata": {},
   "source": [
    "Q.5 What method would you call to get Image object for a 100×100 image, excluding the lower-left quarter of it?\n",
    "\n",
    "Ans. img.crop((0, 50, 50, 50)) #Notice that you are passing a box tuple to crop(), not four separate integer arguments."
   ]
  },
  {
   "cell_type": "markdown",
   "id": "e5329798-4afa-4971-a406-673292ebf494",
   "metadata": {},
   "source": [
    "Q.6 After making changes to an Image object, how could you save it as an image file?\n",
    "\n",
    "Ans. Call the img.save('newimg.jpg') method of the Image object."
   ]
  },
  {
   "cell_type": "code",
   "execution_count": 4,
   "id": "52c5eb27-98ac-45ff-8461-b9a25d430343",
   "metadata": {},
   "outputs": [
    {
     "data": {
      "image/png": "[encoded data removed]",
      "text/plain": [
       "<PIL.PngImagePlugin.PngImageFile image mode=P size=311x162>"
      ]
     },
     "execution_count": 4,
     "metadata": {},
     "output_type": "execute_result"
    }
   ],
   "source": [
    "img.crop((0, 50, 50, 50))\n",
    "img.save('facebook.png')\n",
    "img"
   ]
  },
  {
   "cell_type": "markdown",
   "id": "bf8ccaaf-bcc2-4a1c-8a07-c328ba3d984c",
   "metadata": {},
   "source": [
    "Q.7 What module contains Pillow’s shape-drawing code?\n",
    "\n",
    "Ans. The ImageDraw module contains code to draw on images."
   ]
  },
  {
   "cell_type": "markdown",
   "id": "ff50256f-c733-46ac-9146-bbbc78f04017",
   "metadata": {},
   "source": [
    "Q.8 Image objects do not have drawing methods. What kind of object does? How do you get this kind of object?\n",
    "\n",
    "Ans.ImageDraw objects have shape-drawing methods such as point(), line(), or rectangle(). They are returned by passing the Image object to the ImageDraw.Draw() function."
   ]
  },
  {
   "cell_type": "code",
   "execution_count": null,
   "id": "7be24ea7-074a-4fb0-8a0d-53b42400ecab",
   "metadata": {},
   "outputs": [],
   "source": []
  }
 ],
 "metadata": {
  "kernelspec": {
   "display_name": "Python 3 (ipykernel)",
   "language": "python",
   "name": "python3"
  },
  "language_info": {
   "codemirror_mode": {
    "name": "ipython",
    "version": 3
   },
   "file_extension": ".py",
   "mimetype": "text/x-python",
   "name": "python",
   "nbconvert_exporter": "python",
   "pygments_lexer": "ipython3",
   "version": "3.10.6"
  }
 },
 "nbformat": 4,
 "nbformat_minor": 5
}
