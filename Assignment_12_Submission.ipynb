{
 "cells": [
  {
   "cell_type": "markdown",
   "id": "7e39c9f7-6d59-4e5e-9378-9898aed226e6",
   "metadata": {},
   "source": [
    "1. In what modes should the PdfFileReader() and PdfFileWriter() File objects will be opened?\n",
    "\n",
    "Ans. PdfFileReader() needs to be opened in read-binary mode by passing 'rb' as the second argument to open(). Likewise, the File object passed to PyPDF2. PdfFileWriter() needs to be opened in write-binary mode with 'wb'."
   ]
  },
  {
   "cell_type": "markdown",
   "id": "dcd5275e-72aa-495f-b82d-17575e34cd28",
   "metadata": {},
   "source": [
    "2. From a PdfFileReader object, how do you get a Page object for page 5?\n",
    "\n",
    "Ans. Calling getPage(4) will return a page object for page 5, since page 0 is the first page."
   ]
  },
  {
   "cell_type": "markdown",
   "id": "b38a74c3-ff39-4109-a778-4d38eea81fa2",
   "metadata": {},
   "source": [
    "3. What PdfFileReader variable stores the number of pages in the PDF document?\n",
    "\n",
    "Ans. The total number of pages in the document is stored in the numPages variable of a PdfFileReader object."
   ]
  },
  {
   "cell_type": "markdown",
   "id": "75482be3-f170-41b8-a279-93bf71fd2833",
   "metadata": {},
   "source": [
    "4. If a PdfFileReader object’s PDF is encrypted with the password swordfish, what must you do before you can obtain Page objects from it?\n",
    "\n",
    "Ans. To read an encrypted PDF, call the decrypt() function and pass the password as a string, in our case it is swordfish. After we call decrypt() with the correct password, you’ll see that calling getPage() no longer causes an error. Call decrypt('swordfish')."
   ]
  },
  {
   "cell_type": "markdown",
   "id": "063426c1-a6d7-4e64-ab6c-52275a7f4660",
   "metadata": {},
   "source": [
    "5. What methods do you use to rotate a page? \n",
    "\n",
    "Ans. The pages of a PDF can be rotated in 90-degree increments with the rotateClockwise() and rotateCounterClockwise() methods."
   ]
  },
  {
   "cell_type": "markdown",
   "id": "6419dd5a-b60d-49a2-9547-aafeebc1e2be",
   "metadata": {},
   "source": [
    "6. What is the difference between a Run object and a Paragraph object?\n",
    "\n",
    "Ans. A document contains multiple paragraphs. A paragraph begins on a new line and contains multiple runs. Runs are contiguous groups of charecters within a paragraph."
   ]
  },
  {
   "cell_type": "markdown",
   "id": "02633ace-80a9-4a85-a288-c5294124e6c3",
   "metadata": {},
   "source": [
    "7. How do you obtain a list of Paragraph objects for a Document object that’s stored in a variable named doc?\n",
    "\n",
    "Ans. len(doc.paragraphs)"
   ]
  },
  {
   "cell_type": "markdown",
   "id": "a2d30739-103b-4f30-85e6-36bfd4a92654",
   "metadata": {},
   "source": [
    "8. What type of object has bold, underline, italic, strike, and outline variables?\n",
    "\n",
    "Ans. Run Object"
   ]
  },
  {
   "cell_type": "code",
   "execution_count": null,
   "id": "9b665f04-ff77-4818-b40f-1481d674e54e",
   "metadata": {},
   "outputs": [],
   "source": [
    "9. What is the difference between False, True, and None for the bold variable?.\n",
    "\n",
    "Ans. True always makes the run object bolded and False makes it always not bolded, no matter what the style's bold settings is. None will make the Run object just use the style's bold settings."
   ]
  }
 ],
 "metadata": {
  "kernelspec": {
   "display_name": "Python 3 (ipykernel)",
   "language": "python",
   "name": "python3"
  },
  "language_info": {
   "codemirror_mode": {
    "name": "ipython",
    "version": 3
   },
   "file_extension": ".py",
   "mimetype": "text/x-python",
   "name": "python",
   "nbconvert_exporter": "python",
   "pygments_lexer": "ipython3",
   "version": "3.10.6"
  }
 },
 "nbformat": 4,
 "nbformat_minor": 5
}
