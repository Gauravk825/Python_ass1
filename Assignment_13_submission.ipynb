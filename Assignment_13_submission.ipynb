{
 "cells": [
  {
   "cell_type": "markdown",
   "id": "353d3826-7d06-4c7c-b9f9-c4057217ca3c",
   "metadata": {},
   "source": [
    "Q.1 What advantages do Excel spreadsheets have over CSV spreadsheets?\n",
    "\n",
    "Ans. n Excel, spreadsheets can have values of datatypes other than strings; cells can have different fonts, sizes, or color settings; cells can have varying widths and heights; adjecent cells can be merged; and we can embed images and charts."
   ]
  },
  {
   "cell_type": "markdown",
   "id": "9c86da55-7557-4b6b-8a91-d42e2e411f4d",
   "metadata": {},
   "source": [
    "Q2. What do you pass to csv.reader() and csv.writer() to create reader and writer objects?\n",
    "\n",
    "Ans. We pass a file object, obtained from call to open()"
   ]
  },
  {
   "cell_type": "markdown",
   "id": "9f7174b3-01f1-406c-b8b0-a70781a7aad0",
   "metadata": {},
   "source": [
    "Q3. What modes do File objects for reader and writer objects need to be opened in\n",
    "\n",
    "Ans. File objects need to be opened in read-binary ('rb') for reader objects and write-binary ('wb') fro writer objects."
   ]
  },
  {
   "cell_type": "markdown",
   "id": "6a68a6c3-2a35-453e-8fce-fd51e44ed9b5",
   "metadata": {},
   "source": [
    "Q.4 What method takes a list argument and writes it to a CSV file?\n",
    "\n",
    "Ans. The writerrow() method."
   ]
  },
  {
   "cell_type": "markdown",
   "id": "85d773f3-0e5e-4ab7-8682-2e96ca374891",
   "metadata": {},
   "source": [
    "Q.5 What do the keyword arguments delimiter and line terminator do?\n",
    "\n",
    "Ans. The delimeter argument change the string used to separate cells in a row. The lineterminator argument changes the string used to separate rows."
   ]
  },
  {
   "cell_type": "markdown",
   "id": "f1ceb3f8-c468-4306-9f94-ba967f41859f",
   "metadata": {},
   "source": [
    "Q.6 What function takes a string of JSON data and returns a Python data structure?\n",
    "\n",
    "Ans. json.loads()"
   ]
  },
  {
   "cell_type": "markdown",
   "id": "ee46f75a-c7e9-4bfe-90f3-9bc7066bc635",
   "metadata": {},
   "source": [
    "Q.7 What function takes a Python data structure and returns a string of JSON data?\n",
    "\n",
    "Ans. json.dumps()"
   ]
  },
  {
   "cell_type": "code",
   "execution_count": null,
   "id": "92b2bb7e-d65f-4d4a-afba-f54319d52c25",
   "metadata": {},
   "outputs": [],
   "source": []
  }
 ],
 "metadata": {
  "kernelspec": {
   "display_name": "Python 3 (ipykernel)",
   "language": "python",
   "name": "python3"
  },
  "language_info": {
   "codemirror_mode": {
    "name": "ipython",
    "version": 3
   },
   "file_extension": ".py",
   "mimetype": "text/x-python",
   "name": "python",
   "nbconvert_exporter": "python",
   "pygments_lexer": "ipython3",
   "version": "3.10.6"
  }
 },
 "nbformat": 4,
 "nbformat_minor": 5
}
